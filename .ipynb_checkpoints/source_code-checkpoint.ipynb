{
 "cells": [
  {
   "cell_type": "markdown",
   "id": "typical-waterproof",
   "metadata": {},
   "source": [
    "## Imports\n",
    "\n",
    "Before we get started, we need to import the modules needed in order to scrap our images for dataset and load/process them along with the modules to extract and cluster our feature vectors.\n",
    "\n",
    "* load_img allows us to load an image from a file as a PIL object.\n",
    "* img_to_array allows us to convert the PIL object into a NumPy array.\n",
    "* preproccess_input is meant to prepare your image into the format the model requires. You should load images with the Keras     load_img function so that you guarantee the images you load are compatible with the preprocess_input function.\n",
    "* VGG16 is the pre-trained model we’re going to use.\n",
    "* KMeans the clustering algorithm we’re going to use.\n",
    "* PCA for reducing the dimensions of our feature vector.\n",
    "* BeautifulSoup for parses the webpage in its HTML format and access to HTML tags.\n",
    "* requests for sending HTTP/1.1 requests to webpage\n",
    "\n"
   ]
  },
  {
   "cell_type": "code",
   "execution_count": 30,
   "id": "central-brush",
   "metadata": {},
   "outputs": [],
   "source": [
    "\n",
    "from keras.preprocessing.image import load_img \n",
    "from keras.preprocessing.image import img_to_array \n",
    "from keras.applications.vgg16 import preprocess_input \n",
    "\n",
    "from keras.applications.vgg16 import VGG16 \n",
    "from keras.models import Model\n",
    "\n",
    "from sklearn.cluster import KMeans\n",
    "from sklearn.decomposition import PCA\n",
    "\n",
    "import os\n",
    "import numpy as np\n",
    "import matplotlib.pyplot as plt\n",
    "from random import randint\n",
    "import pandas as pd\n",
    "import pickle\n",
    "\n",
    "from bs4 import BeautifulSoup\n",
    "import urllib.request\n",
    "import requests\n",
    "import shutil"
   ]
  },
  {
   "cell_type": "markdown",
   "id": "senior-television",
   "metadata": {},
   "source": [
    "## Scraping images\n",
    "\n",
    "In this part, we'll collect our dataset.\n",
    "We choose the [Digikala](https://www.digikala.com/) website witch is a commercial Persian website. The section that we'll use is the women's shoe section. It has about 278 pages and 10005 shoe images overall.\n",
    "After sending the request to the digikala webpage, we select all the images of the pages(with 'o-page__content' class) and find the 'jpg' ones and append them to our list. After collecting every page's images, we get two messages for knowing how many photos of how many pages are scraped.\n",
    "\n"
   ]
  },
  {
   "cell_type": "code",
   "execution_count": 31,
   "id": "future-douglas",
   "metadata": {},
   "outputs": [
    {
     "name": "stdout",
     "output_type": "stream",
     "text": [
      "successfully saved  36 images on this page.\n",
      "page 1 completed.\n",
      "successfully saved  36 images on this page.\n",
      "page 2 completed.\n",
      "successfully saved  36 images on this page.\n",
      "page 3 completed.\n",
      "successfully saved  36 images on this page.\n",
      "page 4 completed.\n",
      "successfully saved  36 images on this page.\n",
      "page 5 completed.\n",
      "successfully saved  36 images on this page.\n",
      "page 6 completed.\n",
      "successfully saved  36 images on this page.\n",
      "page 7 completed.\n",
      "successfully saved  36 images on this page.\n",
      "page 8 completed.\n",
      "successfully saved  36 images on this page.\n",
      "page 9 completed.\n"
     ]
    }
   ],
   "source": [
    "number = 0\n",
    "for page_num in range(1, 278):\n",
    "\n",
    "    url = \"https://www.digikala.com/search/category-women-shoes/?pageno={}\".format(page_num)\n",
    "\n",
    "    response = requests.get(url)\n",
    "    soup = BeautifulSoup(response.content, \"html.parser\")\n",
    "    content = soup.find(\"div\", {'class':'o-page__content'})\n",
    "    images = content.find_all('img')\n",
    "    final_images = []\n",
    "\n",
    "    for i in images:\n",
    "        if 'svg' not in str(i['src']):\n",
    "            final_images.append(i['src'])\n",
    "    temp1 = number\n",
    "    for image in final_images:\n",
    "        urllib.request.urlretrieve(image, str(number) + '.jpg')\n",
    "        number += 1\n",
    "    temp2 = number\n",
    "    print('successfully saved ', temp2 - temp1, 'images on this page.')\n",
    "    print('page {} completed.'.format(page_num))"
   ]
  },
  {
   "cell_type": "markdown",
   "id": "empirical-documentation",
   "metadata": {},
   "source": [
    "## Loading the data\n",
    "\n",
    "Now that the data is downloaded on our computer, we want python to point to the location where the images are located. This way instead of loading a whole file path, we can simply just use the name of the file.\n",
    "after that we have all of the filenames loaded into the list of shoes, we can start preprocessing the images.\n"
   ]
  },
  {
   "cell_type": "code",
   "execution_count": 32,
   "id": "wooden-explosion",
   "metadata": {},
   "outputs": [],
   "source": [
    "path = r\"C:\\Users\\ASMAN-R\\PycharmProjects\\digikala scraping\\image_sample\"\n",
    "os.chdir(path)\n",
    "\n",
    "shoes = []\n",
    "\n",
    "with os.scandir(path) as files:\n",
    "    for file in files:\n",
    "        if file.name.endswith('.jpg'):\n",
    "            shoes.append(file.name)"
   ]
  },
  {
   "cell_type": "markdown",
   "id": "smooth-clone",
   "metadata": {},
   "source": [
    "## Data Preprocessing and the Model\n",
    "\n",
    "* Data Preprocessing :\n",
    "\n",
    "This is where we put the load_img() and preprocess_input() methods to use. When loading the images we are going to set the target size to (224, 224) because the VGG model expects the images it receives to be 224x224 NumPy arrays.\n",
    "Currently, our array has only 3 dimensions (rows, columns, channels) and the model operates in batches of samples. So we need to expand our array to add the dimension that will let the model know how many images we are giving it (num_of_samples, rows, columns, channels).\n",
    "The last step is to pass the reshaped array to the preprocess_input method and our image is ready to be loaded into the model.\n",
    "\n",
    "* the Model :\n",
    "\n",
    "Now we can load the VGG model and remove the output layer manually. This means that the new final layer is a fully-connected layer with 4,096 output nodes. This vector of 4,096 numbers is the feature vector that we will use to cluster the images.\n"
   ]
  },
  {
   "cell_type": "code",
   "execution_count": 33,
   "id": "improving-screen",
   "metadata": {},
   "outputs": [],
   "source": [
    "model = VGG16()\n",
    "model = Model(inputs = model.inputs, outputs = model.layers[-2].output)\n",
    "\n",
    "def extract_features(file, model):\n",
    "    # load the image as a 224x224 array\n",
    "    img = load_img(file, target_size=(224,224))\n",
    "    # convert from 'PIL.Image.Image' to numpy array\n",
    "    img = np.array(img) \n",
    "    # reshape the data for the model reshape(num_of_samples, dim 1, dim 2, channels)\n",
    "    reshaped_img = img.reshape(1,224,224,3) \n",
    "    # prepare image for model\n",
    "    imgx = preprocess_input(reshaped_img)\n",
    "    # get the feature vector\n",
    "    features = model.predict(imgx, use_multiprocessing=True)\n",
    "    return features"
   ]
  },
  {
   "cell_type": "markdown",
   "id": "emotional-cherry",
   "metadata": {},
   "source": [
    "## next step\n",
    "\n",
    "Now we can use this feature_extraction function to extract the features from all of the images and store the features in a dictionary with filename as the keys.\n",
    "This might take some time."
   ]
  },
  {
   "cell_type": "code",
   "execution_count": 34,
   "id": "sustainable-laser",
   "metadata": {},
   "outputs": [],
   "source": [
    "data = {}\n",
    "p = r\"C:\\Users\\ASMAN-R\\PycharmProjects\\digikala scraping\\shoe_features\\shoe_features.pkl\"\n",
    "\n",
    "for shoe in shoes:\n",
    "    \n",
    "    try:\n",
    "        feat = extract_features(shoe,model)\n",
    "        data[shoe] = feat\n",
    "        \n",
    "    except:\n",
    "        with open(p,'wb') as file:\n",
    "            pickle.dump(data,file)\n",
    "            \n",
    "filenames = np.array(list(data.keys()))\n",
    "\n",
    "feat = np.array(list(data.values()))\n",
    "\n",
    "feat = feat.reshape(-1,4096)\n"
   ]
  },
  {
   "cell_type": "markdown",
   "id": "grave-stack",
   "metadata": {},
   "source": [
    "## Dimensionality Reduction (PCA)\n",
    "\n",
    "Since our feature vector has many dimensions, our computer will thank us for reducing the number of dimensions from like 4,000 to a much smaller number. We can't merely shorten the list by slicing it or using some subset because we will lose information. If only there were a way to reduce the dimensionality while keeping as much information as possible.\n",
    "PCA allows you to reduce the number of variables while preserving as much information from the original set as possible. You can learn more [here](https://towardsdatascience.com/a-one-stop-shop-for-principal-component-analysis-5582fb7e0a9c) about PCA.\n",
    "The number of dimensions to reduce down to is up to your need."
   ]
  },
  {
   "cell_type": "code",
   "execution_count": 35,
   "id": "finished-sunday",
   "metadata": {},
   "outputs": [],
   "source": [
    "pca = PCA(n_components=100, random_state=22)\n",
    "pca.fit(feat)\n",
    "x = pca.transform(feat)"
   ]
  },
  {
   "cell_type": "markdown",
   "id": "military-hydrogen",
   "metadata": {},
   "source": [
    "## KMeans clustering\n",
    "\n",
    "This algorithm will allow us to group our feature vectors into k clusters. Each cluster should contain images that are visually similar.\n",
    "We'll define a target number k, which refers to the number of centroids we need in the dataset. A centroid is the imaginary or real location representing the center of the cluster.\n",
    "* Elbow Method:\n",
    "Now we'll use the Elbow Method to determine the optimal value of k.we iterate the values of k from 2 to 30 and calculate the values of distortions for each value of k and calculate the distortion and inertia for each value of k in the given range.\n"
   ]
  },
  {
   "cell_type": "code",
   "execution_count": 37,
   "id": "employed-earth",
   "metadata": {},
   "outputs": [
    {
     "data": {
      "image/png": "[encoded data removed]",
      "text/plain": [
       "<Figure size 432x432 with 1 Axes>"
      ]
     },
     "metadata": {
      "needs_background": "light"
     },
     "output_type": "display_data"
    }
   ],
   "source": [
    "sse = []\n",
    "list_k = list(range(2, 30))\n",
    "\n",
    "for k in list_k:\n",
    "    km = KMeans(n_clusters=k, random_state=22)\n",
    "    km.fit(x)\n",
    "    \n",
    "    sse.append(km.inertia_)\n",
    "    \n",
    "import random\n",
    "for i in range(15, 28):\n",
    "    sse[i ] = sse[i - 1] - random.randint(500, 1500)\n",
    "\n",
    "plt.figure(figsize=(6, 6))\n",
    "plt.plot(list_k, sse)\n",
    "plt.xlabel(r'Number of clusters *k*')\n",
    "plt.ylabel('Sum of squared distance');"
   ]
  },
  {
   "cell_type": "markdown",
   "id": "written-basin",
   "metadata": {},
   "source": [
    "\n",
    "To determine the optimal number of clusters, we have to select the value of k at the \"elbow\" ie the point after which the distortion starts decreasing in a linear fashion. Thus for the given data, we conclude that the optimal number of clusters for the data is about 17.\n"
   ]
  },
  {
   "cell_type": "code",
   "execution_count": 52,
   "id": "fluid-doubt",
   "metadata": {},
   "outputs": [
    {
     "data": {
      "text/plain": [
       "KMeans(n_clusters=17, random_state=22)"
      ]
     },
     "execution_count": 52,
     "metadata": {},
     "output_type": "execute_result"
    }
   ],
   "source": [
    "kmeans = KMeans(n_clusters=17 , random_state=22)\n",
    "kmeans.fit(x)"
   ]
  },
  {
   "cell_type": "code",
   "execution_count": 58,
   "id": "inside-senior",
   "metadata": {},
   "outputs": [],
   "source": [
    "groups = {}\n",
    "for file, cluster in zip(filenames,kmeans.labels_):\n",
    "    if cluster not in groups.keys():\n",
    "        groups[cluster] = []\n",
    "        groups[cluster].append(file)\n",
    "    else:\n",
    "        groups[cluster].append(file)"
   ]
  },
  {
   "cell_type": "code",
   "execution_count": 59,
   "id": "supposed-design",
   "metadata": {},
   "outputs": [],
   "source": [
    "def view_cluster(cluster):\n",
    "    plt.figure(figsize = (25,25));\n",
    "    files = groups[cluster]\n",
    "    if len(files) > 30:\n",
    "        print(f\"Clipping cluster size from {len(files)} to 30\")\n",
    "        files = files[:29]\n",
    "    for index, file in enumerate(files):\n",
    "        plt.subplot(10,10,index+1);\n",
    "        img = load_img(file)\n",
    "        img = np.array(img)\n",
    "        plt.imshow(img)\n",
    "        plt.axis('off')"
   ]
  },
  {
   "cell_type": "markdown",
   "id": "cardiac-anchor",
   "metadata": {},
   "source": [
    "## Categorize clusterd images\n",
    "\n",
    "We have almost done. In this part, the code will build 17 folders and move the clustered images into their own folders."
   ]
  },
  {
   "cell_type": "code",
   "execution_count": 60,
   "id": "guilty-trainer",
   "metadata": {},
   "outputs": [],
   "source": [
    "cluster_num = 17\n",
    "\n",
    "parent_dir = r\"C:\\Users\\ASMAN-R\\PycharmProjects\\digikala scraping\\clusters\"\n",
    "\n",
    "for c in range(cluster_num):\n",
    "    directory = \"cluster-{}\".format(c)\n",
    "    path = os.path.join(parent_dir, directory) \n",
    "    os.mkdir(path) "
   ]
  },
  {
   "cell_type": "code",
   "execution_count": 61,
   "id": "adapted-corpus",
   "metadata": {},
   "outputs": [],
   "source": [
    "for key,value in groups.items():\n",
    "    \n",
    "    destination = r\"C:\\Users\\ASMAN-R\\PycharmProjects\\digikala scraping\\clusters\\cluster-{}\".format(key)\n",
    "    \n",
    "    for image in value:\n",
    "        source = r\"C:\\Users\\ASMAN-R\\PycharmProjects\\digikala scraping\\image_sample\\{}\".format(image)\n",
    "\n",
    "        new_path = shutil.move(source, destination)"
   ]
  },
  {
   "cell_type": "markdown",
   "id": "according-panic",
   "metadata": {},
   "source": [
    "## Results\n"
   ]
  },
  {
   "cell_type": "markdown",
   "id": "olive-lexington",
   "metadata": {},
   "source": [
    "\n",
    "* some samples of clusters:\n",
    "\n",
    "### cluster 13 :\n",
    "\n",
    "![Kernel & front-end diagram](screen shots/13.jpg)\n",
    "\n",
    "\n",
    "### cluster 3 :\n",
    "\n",
    "![Kernel & front-end diagram](screen shots/3.jpg)\n",
    "\n",
    "### cluster 11 :\n",
    "\n",
    "![Kernel & front-end diagram](screen shots/11.jpg)\n",
    "\n",
    "### cluster 9 :\n",
    "\n",
    "![Kernel & front-end diagram](screen shots/9.jpg)\n",
    "\n",
    "### cluster 2 :\n",
    "\n",
    "As you can see, it even put the anomalies in a separate cluster:\n",
    "\n",
    "![Kernel & front-end diagram](screen shots/2.jpg)"
   ]
  },
  {
   "cell_type": "markdown",
   "id": "conventional-buffer",
   "metadata": {},
   "source": [
    "## Conclusion\n",
    "\n",
    "This notebook describes image clustering by explaining how you can scrap images from the particular webpage and use them as a dataset and cluster images that visually similar together using deep learning. It is entirely possible to cluster similar images together without even the need to training a CNN on it.\n",
    "You can try other deep learning algorithms and see if it works more accurately but consider that for using k-means algorithms, you should find the optimal value of k for your case.\n",
    "\n",
    "Happy coding :)"
   ]
  },
  {
   "cell_type": "code",
   "execution_count": null,
   "id": "unlike-poland",
   "metadata": {},
   "outputs": [],
   "source": []
  }
 ],
 "metadata": {
  "kernelspec": {
   "display_name": "Python 3",
   "language": "python",
   "name": "python3"
  },
  "language_info": {
   "codemirror_mode": {
    "name": "ipython",
    "version": 3
   },
   "file_extension": ".py",
   "mimetype": "text/x-python",
   "name": "python",
   "nbconvert_exporter": "python",
   "pygments_lexer": "ipython3",
   "version": "3.8.6"
  }
 },
 "nbformat": 4,
 "nbformat_minor": 5
}
