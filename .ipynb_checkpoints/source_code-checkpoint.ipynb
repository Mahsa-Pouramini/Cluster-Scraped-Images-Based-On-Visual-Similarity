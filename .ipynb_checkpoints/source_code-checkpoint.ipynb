{
 "cells": [
  {
   "cell_type": "markdown",
   "id": "greatest-onion",
   "metadata": {},
   "source": [
    "## imports\n",
    "\n",
    "Before we get started, we need to import the modules needed in order to load/process the images along with the modules to extract and cluster our feature vectors.\n",
    "\n",
    "* load_img allows us to load an image from a file as a PIL object."
   ]
  }
 ],
 "metadata": {
  "kernelspec": {
   "display_name": "Python 3",
   "language": "python",
   "name": "python3"
  },
  "language_info": {
   "codemirror_mode": {
    "name": "ipython",
    "version": 3
   },
   "file_extension": ".py",
   "mimetype": "text/x-python",
   "name": "python",
   "nbconvert_exporter": "python",
   "pygments_lexer": "ipython3",
   "version": "3.8.6"
  }
 },
 "nbformat": 4,
 "nbformat_minor": 5
}
